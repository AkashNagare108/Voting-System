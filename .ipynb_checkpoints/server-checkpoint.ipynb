{
 "cells": [
  {
   "cell_type": "code",
   "execution_count": null,
   "id": "46edf1fb-5c39-43cb-964b-d7b0489257af",
   "metadata": {},
   "outputs": [],
   "source": [
    "from project.database import *\n",
    "from project.admin import *\n",
    "from project.conduct_election import *\n",
    "from project.voter import *\n",
    "from project.voter_login import *\n",
    "\n",
    "m_101=\"Thanks For Visiting --^_^--\"\n",
    "e_102=\"Invalid Choice -_-!\"\n",
    "\n",
    "def main():  \n",
    "    cn=create_connection()\n",
    "    create_table(cn)\n",
    "    while True:\n",
    "        option=['Admin Login','Voter Login','Exit']\n",
    "        for no,opt in enumerate(option,1):\n",
    "            print(f\"{no}) {opt}\")\n",
    "        try:\n",
    "            choice=int(input(\"Enter your choice:- \"))\n",
    "            if choice==1:\n",
    "                admin(cn)\n",
    "                #cname=add_constitution(cn)\n",
    "                #insert_tbl2(cn,cname)\n",
    "            elif choice==2:\n",
    "                voter_login(cn)\n",
    "   \n",
    "            elif choice==3:\n",
    "                print(m_101)\n",
    "                break\n",
    "                return\n",
    "                \n",
    "            else:\n",
    "                print(e_102)\n",
    "        except ValueError:\n",
    "            print(\"Please ^_^ Enter Integer Value..!!\")\n",
    "            \n",
    "main()"
   ]
  },
  {
   "cell_type": "code",
   "execution_count": null,
   "id": "8c3927d2-f0b1-4d88-99db-972207939c06",
   "metadata": {},
   "outputs": [],
   "source": []
  },
  {
   "cell_type": "code",
   "execution_count": null,
   "id": "845ffb80-e8e0-49aa-8cac-abcc7a09fb7b",
   "metadata": {},
   "outputs": [],
   "source": []
  }
 ],
 "metadata": {
  "kernelspec": {
   "display_name": "Python 3 (ipykernel)",
   "language": "python",
   "name": "python3"
  },
  "language_info": {
   "codemirror_mode": {
    "name": "ipython",
    "version": 3
   },
   "file_extension": ".py",
   "mimetype": "text/x-python",
   "name": "python",
   "nbconvert_exporter": "python",
   "pygments_lexer": "ipython3",
   "version": "3.11.4"
  }
 },
 "nbformat": 4,
 "nbformat_minor": 5
}
